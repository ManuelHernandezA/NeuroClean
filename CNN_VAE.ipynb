{
 "cells": [
  {
   "cell_type": "code",
   "execution_count": null,
   "metadata": {
    "ExecuteTime": {
     "end_time": "2017-07-08T01:08:48.639152Z",
     "start_time": "2017-07-08T01:08:33.434405Z"
    }
   },
   "outputs": [],
   "source": [
    "# import bcolz \n",
    "import importlib\n",
    "import numpy as np\n",
    "import torch.utils.data\n",
    "import matplotlib.pyplot as plt\n",
    "from tqdm import tqdm_notebook as tqdm\n",
    "\n",
    "from torch.autograd import Variable\n",
    "import torch"
   ]
  },
  {
   "cell_type": "markdown",
   "metadata": {},
   "source": [
    "# Load Dataset\n"
   ]
  },
  {
   "cell_type": "markdown",
   "metadata": {},
   "source": [
    "## Load your favorite dataset"
   ]
  },
  {
   "cell_type": "code",
   "execution_count": null,
   "metadata": {
    "ExecuteTime": {
     "end_time": "2017-07-08T01:08:48.889834Z",
     "start_time": "2017-07-08T01:08:48.643672Z"
    }
   },
   "outputs": [],
   "source": [
    "# you're supposed to come up with \n",
    "# x_val (VALIDATION_SIZE, TIME_STEPS), y_val (VALIDATION_SIZE, N_CLASSES) => validataion dataset \n",
    "# x_train (TRAIN_SIZE, TIME_STEPS), y_train (TRAIN_SIZE, N_CLASSES)       => train dataset"
   ]
  },
  {
   "cell_type": "markdown",
   "metadata": {},
   "source": [
    "## Size params"
   ]
  },
  {
   "cell_type": "code",
   "execution_count": null,
   "metadata": {},
   "outputs": [],
   "source": [
    "LENGTH = x_train.shape[-1]\n",
    "NCLASSES = y_train.shape[-1]"
   ]
  },
  {
   "cell_type": "markdown",
   "metadata": {},
   "source": [
    "## Normalize by max"
   ]
  },
  {
   "cell_type": "code",
   "execution_count": null,
   "metadata": {
    "ExecuteTime": {
     "end_time": "2017-06-22T20:33:30.787459Z",
     "start_time": "2017-06-22T20:33:30.785255Z"
    },
    "scrolled": false
   },
   "outputs": [],
   "source": [
    "x_val = x_val / x_val.max(axis=-1, keepdims=True)\n",
    "x_train = x_train / x_train.max(axis=-1, keepdims=True)\n",
    "y_train_oh = np.argmax(y_train, axis=-1) # one hot\n",
    "y_val_oh = np.argmax(y_val, axis=-1)     # one hot"
   ]
  },
  {
   "cell_type": "markdown",
   "metadata": {},
   "source": [
    "## Compute Class Weights"
   ]
  },
  {
   "cell_type": "code",
   "execution_count": null,
   "metadata": {
    "ExecuteTime": {
     "end_time": "2017-07-08T01:09:06.313789Z",
     "start_time": "2017-07-08T01:09:06.301761Z"
    }
   },
   "outputs": [],
   "source": [
    "weights = 1.0 / np.sum(y_train, axis=0)\n",
    "normalized_weights = weights / np.max(weights)\n",
    "class_weight = {i : normalized_weights[i] for i in range(len(normalized_weights))}\n",
    "weights = torch.from_numpy(np.array(list(class_weight.values()))).float().cuda()"
   ]
  },
  {
   "cell_type": "markdown",
   "metadata": {},
   "source": [
    "# Construct Model"
   ]
  },
  {
   "cell_type": "code",
   "execution_count": null,
   "metadata": {},
   "outputs": [],
   "source": [
    "import gc; gc.collect()"
   ]
  },
  {
   "cell_type": "markdown",
   "metadata": {},
   "source": [
    "## (De)Convolution block\n"
   ]
  },
  {
   "cell_type": "code",
   "execution_count": null,
   "metadata": {},
   "outputs": [],
   "source": [
    "class Conv_block(torch.nn.Module):\n",
    "    def __init__(self, in_channels, out_channels, kernel_size, padding, is_conv=True):\n",
    "        super(Conv_block, self).__init__()\n",
    "        self.in_channels = in_channels\n",
    "        self.out_channels = out_channels\n",
    "        self.kernel_size = kernel_size\n",
    "        self.padding = padding \n",
    "        self.pool_op = torch.nn.AvgPool1d(2, ) if is_conv \\\n",
    "                  else torch.nn.Upsample(scale_factor=2, mode='linear')\n",
    "        self.conv = torch.nn.Conv1d(in_channels, out_channels, kernel_size, padding=padding)\n",
    "        self.bn = torch.nn.BatchNorm1d(out_channels, eps=0.001, momentum=0.99)\n",
    "        self.relu = torch.nn.ReLU()\n",
    "    def forward(self, x):\n",
    "        x = self.conv(x)\n",
    "        x = self.bn(x)\n",
    "        x = self.relu(x)\n",
    "        return self.pool_op(x)"
   ]
  },
  {
   "cell_type": "markdown",
   "metadata": {},
   "source": [
    "## Encoder/Classifier block\n"
   ]
  },
  {
   "cell_type": "code",
   "execution_count": null,
   "metadata": {},
   "outputs": [],
   "source": [
    "class Encoder(torch.nn.Module):\n",
    "    def __init__(self, in_channels, in_length, nclasses, latent_size, encoder_out_channels):\n",
    "        super(Encoder, self).__init__()\n",
    "        \n",
    "        self.in_channels = in_channels\n",
    "        self.in_length = in_length\n",
    "        self.nclasses = nclasses\n",
    "        self.latent_size = latent_size\n",
    "        self.encoder_out_channels = encoder_out_channels\n",
    "        length = self.in_length\n",
    "        self.bn0 = torch.nn.BatchNorm1d(self.in_channels, eps=0.001, momentum=0.99)\n",
    "        # Layer 1\n",
    "        in_channels = self.in_channels\n",
    "        out_channels = 32\n",
    "        kernel_size = 201\n",
    "        padding = kernel_size // 2\n",
    "        self.conv_block_1 = Conv_block(in_channels, out_channels, kernel_size, padding)\n",
    "        length = length // 2\n",
    "        # Layer 2\n",
    "        in_channels = out_channels\n",
    "        out_channels = 32\n",
    "        kernel_size = 201\n",
    "        padding = kernel_size // 2\n",
    "        self.conv_block_2 = Conv_block(in_channels, out_channels, kernel_size, padding)\n",
    "        length = length // 2\n",
    "        \n",
    "        # Layer 3\n",
    "        in_channels = out_channels\n",
    "        last_featuremaps_channels = 64\n",
    "        kernel_size = 201\n",
    "        padding = kernel_size // 2\n",
    "        self.conv_block_3 = Conv_block(in_channels, last_featuremaps_channels, kernel_size, padding)\n",
    "        length = length // 2\n",
    "        \n",
    "        in_channels = last_featuremaps_channels\n",
    "        out_channels = NCLASSES\n",
    "        kernel_size = 30\n",
    "        padding = kernel_size // 2\n",
    "        self.conv_final = torch.nn.Conv1d(in_channels, out_channels, kernel_size, padding=padding)\n",
    "        self.gp_final = torch.nn.AvgPool1d(length)\n",
    "        \n",
    "        # encoder\n",
    "        in_channels = last_featuremaps_channels\n",
    "        out_channels = self.encoder_out_channels\n",
    "        kernel_size = 51\n",
    "        padding = kernel_size // 2\n",
    "        self.adapt_pool = torch.nn.AvgPool1d(2); length = length // 2\n",
    "        self.adapt_conv = torch.nn.Conv1d(in_channels, out_channels, kernel_size, padding=padding)\n",
    "        self.encode_mean = torch.nn.Linear(length*out_channels, self.latent_size)\n",
    "        self.encode_logvar = torch.nn.Linear(length*out_channels, self.latent_size)\n",
    "        self.relu = torch.nn.ReLU()\n",
    "        length = 1\n",
    "\n",
    "    def forward(self, x):\n",
    "        x = x.view(-1, self.in_channels, self.in_length)\n",
    "        x = self.bn0(x)\n",
    "        x = self.conv_block_1(x)\n",
    "        x = self.conv_block_2(x)\n",
    "        x = self.conv_block_3(x)\n",
    "        cv_final = self.conv_final(x)\n",
    "        oh_class = self.gp_final(cv_final)\n",
    "        x = self.adapt_pool(x)\n",
    "        x = self.adapt_conv(x)\n",
    "        x = x.view(x.size(0), -1)\n",
    "        mean = self.relu(self.encode_mean(x)) \n",
    "        logvar = self.relu(self.encode_logvar(x))\n",
    "        return [oh_class.view(oh_class.size(0), self.nclasses), \n",
    "                mean, logvar, \n",
    "                self._sample_latent(mean, logvar)]\n",
    "        \n",
    "    def _sample_latent(self, mean, logvar): # z ~ N(mean, var (sigma^2))   \n",
    "        z_std = torch.from_numpy(np.random.normal(0, 1, size=mean.size())).float()\n",
    "        sigma = torch.exp(logvar).cuda()\n",
    "        return mean + sigma * Variable(z_std, requires_grad=False).cuda()"
   ]
  },
  {
   "cell_type": "markdown",
   "metadata": {},
   "source": [
    "## Decoder block"
   ]
  },
  {
   "cell_type": "code",
   "execution_count": null,
   "metadata": {},
   "outputs": [],
   "source": [
    "class Decoder(torch.nn.Module):\n",
    "    def __init__(self, length, in_channels, nclasses, latent_size):\n",
    "        super(Decoder, self).__init__()\n",
    "        \n",
    "        self.in_channels = in_channels\n",
    "        self.length = length\n",
    "        self.latent_size = latent_size\n",
    "        length = self.length  \n",
    "        length = length // 2 // 2 // 2 \n",
    "        # Adapt Layer\n",
    "        self.relu = torch.nn.ReLU()\n",
    "        self.tanh = torch.nn.Tanh()\n",
    "        self.adapt_nn = torch.nn.Linear(latent_size, self.in_channels*length)\n",
    "        # Layer 1\n",
    "        in_channels = self.in_channels\n",
    "        out_channels = 64\n",
    "        kernel_size = 200\n",
    "        padding = kernel_size // 2\n",
    "        self.deconv_block_1 = Conv_block(in_channels, out_channels, kernel_size, padding, is_conv=False)\n",
    "        length = length * 2\n",
    "        # Layer 2\n",
    "        in_channels = out_channels\n",
    "        out_channels = 32\n",
    "        kernel_size = 200\n",
    "        padding = kernel_size // 2\n",
    "        self.deconv_block_2 = Conv_block(in_channels, out_channels, kernel_size, padding, is_conv=False)\n",
    "        length = length * 2\n",
    "        \n",
    "        # Layer 3\n",
    "        in_channels = out_channels\n",
    "        out_channels = 32\n",
    "        kernel_size = 200\n",
    "        padding = kernel_size // 2\n",
    "        self.deconv_block_3 = Conv_block(in_channels, out_channels, kernel_size, padding, is_conv=False)\n",
    "        length = length * 2\n",
    "        \n",
    "        in_channels = out_channels\n",
    "        out_channels = 1\n",
    "        kernel_size = 200\n",
    "        padding = kernel_size // 2\n",
    "        self.decode_conv = torch.nn.Conv1d(in_channels, out_channels, kernel_size, padding=padding)\n",
    "        \n",
    "    def forward(self, z):\n",
    "\n",
    "        x = self.relu(self.adapt_nn(z)).cuda()\n",
    "        x = x.view(x.size(0), self.in_channels, self.length // 2 // 2 // 2)\n",
    "        x = self.deconv_block_1(x)\n",
    "        x = self.deconv_block_2(x)\n",
    "        x = self.deconv_block_3(x)\n",
    "        x = self.decode_conv(x)\n",
    "        out = self.tanh(x)\n",
    "        return out"
   ]
  },
  {
   "cell_type": "markdown",
   "metadata": {},
   "source": [
    "## Variational autoencoder"
   ]
  },
  {
   "cell_type": "code",
   "execution_count": null,
   "metadata": {},
   "outputs": [],
   "source": [
    "class VAE(torch.nn.Module):\n",
    "    def __init__(self, length, nclasses, latent_size, transition_channels):\n",
    "        super(VAE, self).__init__()\n",
    "        self.encoder = Encoder(1, length, nclasses, latent_size, transition_channels)\n",
    "        self.decoder = Decoder(length, transition_channels, nclasses, latent_size)\n",
    "    def count_parameters(self):\n",
    "        return np.sum([np.prod(x.size()) for x in self.parameters()])\n",
    "    def forward(self, x):\n",
    "        oh_class, mean, z = self.encoder(x)\n",
    "        x_decoded = self.decoder(z)\n",
    "        return oh_class, mean, z, x_decoded"
   ]
  },
  {
   "cell_type": "code",
   "execution_count": null,
   "metadata": {},
   "outputs": [],
   "source": [
    "model = VAE(LENGTH, NCLASSES, 10, 4).cuda()\n",
    "model.count_parameters()"
   ]
  },
  {
   "cell_type": "code",
   "execution_count": null,
   "metadata": {},
   "outputs": [],
   "source": [
    "# x = Variable(torch.from_numpy(x_train[:2])).cuda().float()\n",
    "# a = model.encoder(x)"
   ]
  },
  {
   "cell_type": "markdown",
   "metadata": {},
   "source": [
    "## Losses"
   ]
  },
  {
   "cell_type": "code",
   "execution_count": null,
   "metadata": {},
   "outputs": [],
   "source": [
    "class SSD(torch.nn.Module):\n",
    "    def __init__(self):\n",
    "        super(SSD, self).__init__()\n",
    "    def forward(self, x_decoded, x):\n",
    "        loss = torch.sum(torch.pow(x - x_decoded, 2))\n",
    "        return loss / x_decoded.size(0)\n",
    "class Variational_loss(torch.nn.Module):\n",
    "    def __init__(self):\n",
    "        super(Variational_loss, self).__init__()\n",
    "    def forward(self, x_decoded, x, mu, logvar):\n",
    "        return SSD()(x_decoded, x) + torch.sum(0.5 * (mu ** 2 + torch.exp(logvar) - logvar - 1))\n",
    "\n",
    "class VAE_loss(torch.nn.Module):\n",
    "    def __init__(self, weights):\n",
    "        super(VAE_loss, self).__init__()\n",
    "        self.classification_loss = torch.nn.CrossEntropyLoss(weights)\n",
    "        self.variational_loss = Variational_loss()\n",
    "        self.c = 0.001\n",
    "    def forward(self, x_decoded, x, mu, oh_class, y):\n",
    "        \n",
    "        a = self.classification_loss(oh_class.cuda(), y)\n",
    "        b = self.variational_loss(\n",
    "            x_decoded.squeeze()[:,:LENGTH].cuda(), \n",
    "            x.squeeze()[:,:LENGTH].cuda(), \n",
    "            mu) * self.c\n",
    "        return a + b, a, b"
   ]
  },
  {
   "cell_type": "markdown",
   "metadata": {},
   "source": [
    "## Data loader"
   ]
  },
  {
   "cell_type": "code",
   "execution_count": null,
   "metadata": {},
   "outputs": [],
   "source": [
    "class Dataset(torch.utils.data.Dataset):\n",
    "    def __init__(self, x, y):\n",
    "        self.x = x\n",
    "        self.y = y\n",
    "    def __getitem__(self, idx):\n",
    "        return self.x[idx], self.y[idx]\n",
    "    def __len__(self):\n",
    "        return len(self.x)\n",
    "batch_size = 256\n",
    "\n",
    "train_loader = torch.utils.data.DataLoader(\n",
    "    dataset=Dataset(x_train, y_train_oh), \n",
    "    batch_size=batch_size, \n",
    "    shuffle=True)\n",
    "val_loader = torch.utils.data.DataLoader(\n",
    "    dataset=Dataset(x_val, y_val_oh), \n",
    "    batch_size=batch_size, \n",
    "    shuffle=True)"
   ]
  },
  {
   "cell_type": "markdown",
   "metadata": {},
   "source": [
    "## Tester"
   ]
  },
  {
   "cell_type": "code",
   "execution_count": null,
   "metadata": {},
   "outputs": [],
   "source": [
    "def test(model, loader):\n",
    "    acc = []\n",
    "    for batch_id, (x, y) in tqdm(enumerate(loader), total=len(loader)):\n",
    "        x = Variable(x).float().cuda()\n",
    "        y = Variable(y).cuda()\n",
    "        out = model(x)\n",
    "        y_pred = out[0]\n",
    "        _, index = torch.max(y_pred, -1)\n",
    "        acc.append((index == y).cpu().data.numpy())\n",
    "    acc = np.concatenate(acc).mean()\n",
    "    return acc"
   ]
  },
  {
   "cell_type": "markdown",
   "metadata": {},
   "source": [
    "# Train"
   ]
  },
  {
   "cell_type": "markdown",
   "metadata": {},
   "source": [
    "## Train Classifier/Encoder first"
   ]
  },
  {
   "cell_type": "markdown",
   "metadata": {},
   "source": [
    "### Freeze variational encoder layers"
   ]
  },
  {
   "cell_type": "code",
   "execution_count": null,
   "metadata": {},
   "outputs": [],
   "source": [
    "classifier = model.encoder\n",
    "parameters = []\n",
    "layers = (classifier.adapt_conv, classifier.adapt_pool, classifier.encode_mean, classifier.encode_logvar)\n",
    "for layer in layers:\n",
    "    for param in layer.parameters():\n",
    "        param.requires_grad = False\n",
    "for param in classifier.parameters():\n",
    "    if param.requires_grad == True:\n",
    "        parameters.append(param)\n",
    "classifier_parameters = iter(parameters)"
   ]
  },
  {
   "cell_type": "markdown",
   "metadata": {},
   "source": [
    "### Create optimizer and classifier"
   ]
  },
  {
   "cell_type": "code",
   "execution_count": null,
   "metadata": {},
   "outputs": [],
   "source": [
    "optim_classifier = torch.optim.Adam(classifier_parameters)\n",
    "Loss = torch.nn.CrossEntropyLoss(weights)"
   ]
  },
  {
   "cell_type": "markdown",
   "metadata": {},
   "source": [
    "## Train"
   ]
  },
  {
   "cell_type": "code",
   "execution_count": null,
   "metadata": {},
   "outputs": [],
   "source": [
    "learning_rates = [0.01] * 4 + [0.001] * 4 + [0.0001] * 3 + [0.00001] * 3 \n",
    "for lr in tqdm(learning_rates, total=len(learning_rates)):\n",
    "    optim_classifier.param_groups[0]['lr'] = lr\n",
    "    for i, (x, y) in tqdm(enumerate(train_loader), total=len(train_loader)):\n",
    "        x = Variable(x).float().cuda()\n",
    "        y = Variable(y.long()).cuda()\n",
    "\n",
    "        oh_class, mu, logvar, z = model.encoder(x)\n",
    "        loss = Loss(oh_class.cuda(), y)\n",
    "        optim_classifier.zero_grad()\n",
    "        loss.backward()\n",
    "        optim_classifier.step()\n",
    "    print('Loss:' ,loss.data)\n",
    "    print('Train Accuracy: ', test(model.encoder, train_loader))\n",
    "    print('Validation Accuracy:', test(model.encoder, val_loader))\n"
   ]
  },
  {
   "cell_type": "markdown",
   "metadata": {},
   "source": [
    "## Train Decoder"
   ]
  },
  {
   "cell_type": "code",
   "execution_count": null,
   "metadata": {},
   "outputs": [],
   "source": [
    "nepochs = 50\n",
    "for epoch in tqdm(range(nepochs), total=nepochs):\n",
    "    optim.param_groups[0]['lr'] *= 0.912011 # 0.001*(a^50) = 0.00001, a = 0.912011\n",
    "    \n",
    "    for i, (x, y) in tqdm(enumerate(train_loader), total=len(train_loader)):\n",
    "        x = Variable(x).float().cuda()\n",
    "        y = Variable(y.long()).cuda()\n",
    "\n",
    "        oh_class, mu, z, x_decoded = model(x)\n",
    "        loss, class_loss, var_loss = \\\n",
    "            Loss(x_decoded.cuda(), x, mu.cuda(), oh_class.cuda(), y) # x_decoded, x, mu, oh_class, y\n",
    "        optim.zero_grad()\n",
    "        loss.backward()\n",
    "        optim.step()\n",
    "        if not i % 50:\n",
    "            print('training encoder only\\n')\n",
    "            oh_class, _, _ = model.encoder(x)\n",
    "            enc_aux_loss = torch.nn.CrossEntropyLoss(weights)(oh_class.cuda(), y)\n",
    "            optim.zero_grad()\n",
    "            enc_aux_loss.backward()\n",
    "            optim.step()\n",
    "        print('Loss:' ,loss.data)\n",
    "        print('Class loss:' ,class_loss.data)\n",
    "        print('Var loss:' ,var_loss.data)\n",
    "        \n",
    "        \n",
    "    print('Train Accuracy: ', test(model, train_loader))\n",
    "    print('Validation Accuracy:', test(model, val_loader))\n"
   ]
  }
 ],
 "metadata": {
  "kernelspec": {
   "display_name": "Python 3",
   "language": "python",
   "name": "python3"
  },
  "language_info": {
   "codemirror_mode": {
    "name": "ipython",
    "version": 3
   },
   "file_extension": ".py",
   "mimetype": "text/x-python",
   "name": "python",
   "nbconvert_exporter": "python",
   "pygments_lexer": "ipython3",
   "version": "3.13.7"
  },
  "toc": {
   "base_numbering": 1,
   "nav_menu": {
    "height": "419px",
    "width": "252px"
   },
   "number_sections": true,
   "sideBar": true,
   "skip_h1_title": false,
   "title_cell": "Table of Contents",
   "title_sidebar": "Contents",
   "toc_cell": false,
   "toc_position": {
    "height": "512px",
    "left": "0px",
    "right": "1246px",
    "top": "133px",
    "width": "228px"
   },
   "toc_section_display": "block",
   "toc_window_display": true
  },
  "varInspector": {
   "cols": {
    "lenName": 16,
    "lenType": 16,
    "lenVar": 40
   },
   "kernels_config": {
    "python": {
     "delete_cmd_postfix": "",
     "delete_cmd_prefix": "del ",
     "library": "var_list.py",
     "varRefreshCmd": "print(var_dic_list())"
    },
    "r": {
     "delete_cmd_postfix": ") ",
     "delete_cmd_prefix": "rm(",
     "library": "var_list.r",
     "varRefreshCmd": "cat(var_dic_list()) "
    }
   },
   "types_to_exclude": [
    "module",
    "function",
    "builtin_function_or_method",
    "instance",
    "_Feature"
   ],
   "window_display": false
  }
 },
 "nbformat": 4,
 "nbformat_minor": 2
}
